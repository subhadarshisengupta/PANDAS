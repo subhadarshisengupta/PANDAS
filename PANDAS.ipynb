{
 "cells": [
  {
   "cell_type": "code",
   "execution_count": 17,
   "metadata": {},
   "outputs": [
    {
     "name": "stdout",
     "output_type": "stream",
     "text": [
      "[1, 2, 0, 1, 2, 3, 4, 0, 1, 2]\n"
     ]
    }
   ],
   "source": [
    "# How-to-count-distance-to-the-previous-zero\n",
    "\n",
    "import pandas as pd\n",
    "\n",
    "s = pd.Series([7, 2, 0, 3, 4, 2, 5, 0, 3, 4])\n",
    "Y = (s.groupby(s.eq(0).cumsum().mask(s.eq(0))).cumcount() + 1).mask(s.eq(0), 0).tolist()\n",
    "print(Y)"
   ]
  },
  {
   "cell_type": "code",
   "execution_count": 24,
   "metadata": {},
   "outputs": [
    {
     "name": "stdout",
     "output_type": "stream",
     "text": [
      "2015-01-01    0.277584\n",
      "2015-01-02    0.708554\n",
      "2015-01-05    0.175222\n",
      "2015-01-06    0.738924\n",
      "2015-01-07    0.374531\n",
      "2015-01-08    0.370306\n",
      "2015-01-09    0.217209\n",
      "2015-01-12    0.582040\n",
      "2015-01-13    0.506091\n",
      "2015-01-14    0.981528\n",
      "2015-01-15    0.870972\n",
      "2015-01-16    0.449776\n",
      "2015-01-19    0.136779\n",
      "2015-01-20    0.649711\n",
      "2015-01-21    0.131107\n",
      "2015-01-22    0.359087\n",
      "2015-01-23    0.437030\n",
      "2015-01-26    0.630802\n",
      "2015-01-27    0.617940\n",
      "2015-01-28    0.804800\n",
      "2015-01-29    0.292704\n",
      "2015-01-30    0.435522\n",
      "2015-02-02    0.843108\n",
      "2015-02-03    0.019456\n",
      "2015-02-04    0.474741\n",
      "2015-02-05    0.071027\n",
      "2015-02-06    0.322794\n",
      "2015-02-09    0.562054\n",
      "2015-02-10    0.056363\n",
      "2015-02-11    0.340454\n",
      "                ...   \n",
      "2015-11-20    0.618499\n",
      "2015-11-23    0.000127\n",
      "2015-11-24    0.987275\n",
      "2015-11-25    0.157043\n",
      "2015-11-26    0.584191\n",
      "2015-11-27    0.139123\n",
      "2015-11-30    0.508707\n",
      "2015-12-01    0.125017\n",
      "2015-12-02    0.914320\n",
      "2015-12-03    0.531876\n",
      "2015-12-04    0.065948\n",
      "2015-12-07    0.593263\n",
      "2015-12-08    0.157599\n",
      "2015-12-09    0.365209\n",
      "2015-12-10    0.573746\n",
      "2015-12-11    0.119446\n",
      "2015-12-14    0.092269\n",
      "2015-12-15    0.895314\n",
      "2015-12-16    0.115774\n",
      "2015-12-17    0.694346\n",
      "2015-12-18    0.049607\n",
      "2015-12-21    0.712119\n",
      "2015-12-22    0.629889\n",
      "2015-12-23    0.448360\n",
      "2015-12-24    0.516530\n",
      "2015-12-25    0.950871\n",
      "2015-12-28    0.727205\n",
      "2015-12-29    0.935317\n",
      "2015-12-30    0.521412\n",
      "2015-12-31    0.537935\n",
      "Freq: B, Length: 261, dtype: float64\n"
     ]
    }
   ],
   "source": [
    "#Create a DatetimeIndex that contains each business day of 2015 and use it to index a Series of random numbers.\n",
    "dti = pd.date_range(start='2015-01-01', end='2015-12-31', freq='B') \n",
    "s = pd.Series(np.random.rand(len(dti)), index=dti)\n",
    "print(s)"
   ]
  },
  {
   "cell_type": "code",
   "execution_count": 25,
   "metadata": {},
   "outputs": [
    {
     "data": {
      "text/plain": [
       "25.43748976272422"
      ]
     },
     "execution_count": 25,
     "metadata": {},
     "output_type": "execute_result"
    }
   ],
   "source": [
    "#Find the sum of the values in s for every Wednesday\n",
    "s[s.index.weekday == 2].sum()"
   ]
  },
  {
   "cell_type": "code",
   "execution_count": 26,
   "metadata": {},
   "outputs": [
    {
     "data": {
      "text/plain": [
       "2015-01-31    0.488556\n",
       "2015-02-28    0.406528\n",
       "2015-03-31    0.433255\n",
       "2015-04-30    0.482759\n",
       "2015-05-31    0.495070\n",
       "2015-06-30    0.499715\n",
       "2015-07-31    0.522922\n",
       "2015-08-31    0.619789\n",
       "2015-09-30    0.424836\n",
       "2015-10-31    0.517454\n",
       "2015-11-30    0.498396\n",
       "2015-12-31    0.490147\n",
       "Freq: M, dtype: float64"
      ]
     },
     "execution_count": 26,
     "metadata": {},
     "output_type": "execute_result"
    }
   ],
   "source": [
    "#Average For each calendar month\n",
    "s.resample('M').mean()"
   ]
  },
  {
   "cell_type": "code",
   "execution_count": 33,
   "metadata": {},
   "outputs": [
    {
     "data": {
      "text/plain": [
       "2015-01-31   2015-01-14\n",
       "2015-05-31   2015-03-26\n",
       "2015-09-30   2015-08-25\n",
       "2016-01-31   2015-11-24\n",
       "dtype: datetime64[ns]"
      ]
     },
     "execution_count": 33,
     "metadata": {},
     "output_type": "execute_result"
    }
   ],
   "source": [
    "#For each group of four consecutive calendar months in s, find the date on which the highest value occurred.\n",
    "s.groupby(pd.Grouper(freq='4M')).idxmax()"
   ]
  },
  {
   "cell_type": "code",
   "execution_count": null,
   "metadata": {},
   "outputs": [],
   "source": []
  }
 ],
 "metadata": {
  "kernelspec": {
   "display_name": "Python 3",
   "language": "python",
   "name": "python3"
  },
  "language_info": {
   "codemirror_mode": {
    "name": "ipython",
    "version": 3
   },
   "file_extension": ".py",
   "mimetype": "text/x-python",
   "name": "python",
   "nbconvert_exporter": "python",
   "pygments_lexer": "ipython3",
   "version": "3.6.5"
  }
 },
 "nbformat": 4,
 "nbformat_minor": 2
}
